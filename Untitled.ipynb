{
 "cells": [
  {
   "cell_type": "markdown",
   "id": "9bf0d78d",
   "metadata": {},
   "source": [
    "# MySQL Database connectivity with Python "
   ]
  },
  {
   "cell_type": "code",
   "execution_count": null,
   "id": "478c1638",
   "metadata": {},
   "outputs": [],
   "source": [
    "# Installing required package for establishing the connectivity\n",
    "!pip install pymysql"
   ]
  },
  {
   "cell_type": "code",
   "execution_count": 1,
   "id": "b9d7877c",
   "metadata": {},
   "outputs": [],
   "source": [
    "import pymysql as sql"
   ]
  },
  {
   "cell_type": "code",
   "execution_count": 2,
   "id": "21d28d85",
   "metadata": {},
   "outputs": [],
   "source": [
    "conn=sql.connect(user='root',host='localhost',password='     ',db='organisation')"
   ]
  },
  {
   "cell_type": "code",
   "execution_count": 3,
   "id": "8e500047",
   "metadata": {},
   "outputs": [],
   "source": [
    "cur=conn.cursor()"
   ]
  },
  {
   "cell_type": "code",
   "execution_count": 4,
   "id": "f9140028",
   "metadata": {},
   "outputs": [
    {
     "data": {
      "text/plain": [
       "0"
      ]
     },
     "execution_count": 4,
     "metadata": {},
     "output_type": "execute_result"
    }
   ],
   "source": [
    "q1=\"\"\"CREATE TABLE Worker ( WORKER_ID INT NOT NULL PRIMARY KEY \n",
    "AUTO_INCREMENT, FIRST_NAME CHAR(25), LAST_NAME CHAR(25), \n",
    "SALARY INT(15), JOINING_DATE DATETIME, DEPARTMENT CHAR(25) \n",
    ");\"\"\"\n",
    "cur.execute(q1)"
   ]
  },
  {
   "cell_type": "code",
   "execution_count": 5,
   "id": "0d37595a",
   "metadata": {},
   "outputs": [],
   "source": [
    "# commit is used to save the changes made by execute() command permanently in database\n",
    "conn.commit()"
   ]
  },
  {
   "cell_type": "code",
   "execution_count": 15,
   "id": "b2229c39",
   "metadata": {},
   "outputs": [],
   "source": [
    "q2=\"\"\"INSERT INTO Worker (WORKER_ID, FIRST_NAME, LAST_NAME, SALARY, \n",
    "JOINING_DATE, DEPARTMENT) VALUES \n",
    "(001, 'Monika', 'Arora', 100000, '14-02-20 09.00.00', 'HR'), \n",
    "(002, 'Niharika', 'Verma', 80000, '14-06-11 09.00.00', \n",
    "'Admin'), \n",
    "(003, 'Vishal', 'Singhal', 300000, '14-02-20 09.00.00', 'HR'), \n",
    "(004, 'Amitabh', 'Singh', 500000, '14-02-20 09.00.00', \n",
    "'Admin'), \n",
    "(005, 'Vivek', 'Bhati', 500000, '14-06-11 09.00.00', 'Admin'), \n",
    "(006, 'Vipul', 'Diwan', 200000, '14-06-11 09.00.00', \n",
    "'Account'), \n",
    "(007, 'Satish', 'Kumar', 75000, '14-01-20 09.00.00', \n",
    "'Account'), \n",
    "(008, 'Geetika', 'Chauhan', 90000, '14-04-11 09.00.00', \n",
    "'Admin');\"\"\""
   ]
  },
  {
   "cell_type": "code",
   "execution_count": 26,
   "id": "7980fb38",
   "metadata": {},
   "outputs": [],
   "source": [
    "conn.commit()"
   ]
  },
  {
   "cell_type": "code",
   "execution_count": 31,
   "id": "7144581f",
   "metadata": {},
   "outputs": [
    {
     "data": {
      "text/plain": [
       "8"
      ]
     },
     "execution_count": 31,
     "metadata": {},
     "output_type": "execute_result"
    }
   ],
   "source": [
    "cur.execute(\"select * from worker\")"
   ]
  },
  {
   "cell_type": "code",
   "execution_count": 32,
   "id": "4552e243",
   "metadata": {},
   "outputs": [
    {
     "name": "stdout",
     "output_type": "stream",
     "text": [
      "(1, 'Monika', 'Arora', 100000, datetime.datetime(2014, 2, 20, 9, 0), 'HR')\n",
      "(2, 'Niharika', 'Verma', 80000, datetime.datetime(2014, 6, 11, 9, 0), 'Admin')\n",
      "(3, 'Vishal', 'Singhal', 300000, datetime.datetime(2014, 2, 20, 9, 0), 'HR')\n",
      "(4, 'Amitabh', 'Singh', 500000, datetime.datetime(2014, 2, 20, 9, 0), 'Admin')\n",
      "(5, 'Vivek', 'Bhati', 500000, datetime.datetime(2014, 6, 11, 9, 0), 'Admin')\n",
      "(6, 'Vipul', 'Diwan', 200000, datetime.datetime(2014, 6, 11, 9, 0), 'Account')\n",
      "(7, 'Satish', 'Kumar', 75000, datetime.datetime(2014, 1, 20, 9, 0), 'Account')\n",
      "(8, 'Geetika', 'Chauhan', 90000, datetime.datetime(2014, 4, 11, 9, 0), 'Admin')\n"
     ]
    }
   ],
   "source": [
    "print(*list(cur.fetchall()),sep=\"\\n\")"
   ]
  },
  {
   "cell_type": "code",
   "execution_count": 37,
   "id": "2e2014fe",
   "metadata": {},
   "outputs": [
    {
     "data": {
      "text/plain": [
       "8"
      ]
     },
     "execution_count": 37,
     "metadata": {},
     "output_type": "execute_result"
    }
   ],
   "source": [
    "cur.execute(\"select * from worker\")"
   ]
  },
  {
   "cell_type": "code",
   "execution_count": 36,
   "id": "babc1466",
   "metadata": {},
   "outputs": [
    {
     "name": "stdout",
     "output_type": "stream",
     "text": [
      "[1, 'Monika', 'Arora', 100000, datetime.datetime(2014, 2, 20, 9, 0), 'HR']\n"
     ]
    }
   ],
   "source": [
    "print(list(cur.fetchone()))"
   ]
  },
  {
   "cell_type": "code",
   "execution_count": 38,
   "id": "5372cef5",
   "metadata": {},
   "outputs": [
    {
     "name": "stdout",
     "output_type": "stream",
     "text": [
      "(1, 'Monika', 'Arora', 100000, datetime.datetime(2014, 2, 20, 9, 0), 'HR')\n",
      "(2, 'Niharika', 'Verma', 80000, datetime.datetime(2014, 6, 11, 9, 0), 'Admin')\n",
      "(3, 'Vishal', 'Singhal', 300000, datetime.datetime(2014, 2, 20, 9, 0), 'HR')\n",
      "(4, 'Amitabh', 'Singh', 500000, datetime.datetime(2014, 2, 20, 9, 0), 'Admin')\n"
     ]
    }
   ],
   "source": [
    "print(*list(cur.fetchmany(4)),sep=\"\\n\")"
   ]
  },
  {
   "cell_type": "code",
   "execution_count": null,
   "id": "f23baa20",
   "metadata": {},
   "outputs": [],
   "source": []
  }
 ],
 "metadata": {
  "kernelspec": {
   "display_name": "Python 3 (ipykernel)",
   "language": "python",
   "name": "python3"
  },
  "language_info": {
   "codemirror_mode": {
    "name": "ipython",
    "version": 3
   },
   "file_extension": ".py",
   "mimetype": "text/x-python",
   "name": "python",
   "nbconvert_exporter": "python",
   "pygments_lexer": "ipython3",
   "version": "3.9.12"
  }
 },
 "nbformat": 4,
 "nbformat_minor": 5
}
