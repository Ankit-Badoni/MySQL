{
 "cells": [
  {
   "cell_type": "markdown",
   "id": "52a31686",
   "metadata": {},
   "source": [
    "# MySQL Database connectivity with Python "
   ]
  },
  {
   "cell_type": "code",
   "execution_count": 4,
   "id": "3a093731",
   "metadata": {},
   "outputs": [
    {
     "name": "stdout",
     "output_type": "stream",
     "text": [
      "Collecting pymysql\n",
      "  Downloading PyMySQL-1.0.3-py3-none-any.whl (43 kB)\n",
      "Installing collected packages: pymysql\n",
      "Successfully installed pymysql-1.0.3\n"
     ]
    }
   ],
   "source": [
    "# Installing required package for establishing the connectivity\n",
    "!pip install pymysql"
   ]
  },
  {
   "cell_type": "code",
   "execution_count": 2,
   "id": "b9d7877c",
   "metadata": {},
   "outputs": [],
   "source": [
    "import pymysql as sql"
   ]
  },
  {
   "cell_type": "code",
   "execution_count": 5,
   "id": "21d28d85",
   "metadata": {},
   "outputs": [],
   "source": [
    "conn=sql.connect(user='root',host='localhost',password='     ',db='python')"
   ]
  },
  {
   "cell_type": "code",
   "execution_count": 4,
   "id": "8e500047",
   "metadata": {},
   "outputs": [],
   "source": [
    "cur=conn.cursor()"
   ]
  },
  {
   "cell_type": "code",
   "execution_count": 6,
   "id": "861c6398",
   "metadata": {},
   "outputs": [],
   "source": [
    "q1='create table student(id int ,name varchar(20),course varchar(20),specialization varchar(20),\\\n",
    "   fee float)'"
   ]
  },
  {
   "cell_type": "code",
   "execution_count": null,
   "id": "d93b41a8",
   "metadata": {},
   "outputs": [],
   "source": [
    "cur.execute(q)"
   ]
  },
  {
   "cell_type": "code",
   "execution_count": 15,
   "id": "eb252e45",
   "metadata": {},
   "outputs": [
    {
     "data": {
      "text/plain": [
       "2"
      ]
     },
     "execution_count": 15,
     "metadata": {},
     "output_type": "execute_result"
    }
   ],
   "source": [
    "cur.execute(\"delete from student where id=1\")"
   ]
  },
  {
   "cell_type": "code",
   "execution_count": 17,
   "id": "bcadacef",
   "metadata": {},
   "outputs": [
    {
     "data": {
      "text/plain": [
       "1"
      ]
     },
     "execution_count": 17,
     "metadata": {},
     "output_type": "execute_result"
    }
   ],
   "source": [
    "cur.execute('insert into student values(1,\"Ankit\",\"MCA\",\"ML\",130000.0)')"
   ]
  },
  {
   "cell_type": "code",
   "execution_count": 5,
   "id": "4b633392",
   "metadata": {},
   "outputs": [],
   "source": [
    "conn.commit()"
   ]
  },
  {
   "cell_type": "code",
   "execution_count": 20,
   "id": "11c5800b",
   "metadata": {},
   "outputs": [
    {
     "name": "stdout",
     "output_type": "stream",
     "text": [
      "how many records you want to enter =3\n",
      "enter the id= 69\n",
      "enter the name=piyush\n",
      "enter the courese=MCA\n",
      "enter the specialization=ML\n",
      "enter the fee =100000\n",
      "enter the id= 81\n",
      "enter the name=robot\n",
      "enter the courese=MCA\n",
      "enter the specialization=dotnet\n",
      "enter the fee =120000\n",
      "enter the id= 52\n",
      "enter the name=jayant\n",
      "enter the courese=MCA\n",
      "enter the specialization=AI\n",
      "enter the fee =130000\n"
     ]
    }
   ],
   "source": [
    "no=int(input(\"how many records you want to enter =\"))\n",
    "for i in range(no):\n",
    "    id=int(input(\"enter the id= \"))\n",
    "    name=input(\"enter the name=\")\n",
    "    course=input(\"enter the courese=\")\n",
    "    dept=input(\"enter the specialization=\")\n",
    "    fee=float(input(\"enter the fee =\"))\n",
    "    cur.execute(f'insert into student values({id},\"{name}\",\"{course}\",\"{dept}\",{fee})')\n",
    "    "
   ]
  },
  {
   "cell_type": "code",
   "execution_count": 21,
   "id": "fc34999b",
   "metadata": {},
   "outputs": [],
   "source": [
    "conn.commit()"
   ]
  },
  {
   "cell_type": "code",
   "execution_count": 22,
   "id": "62637009",
   "metadata": {},
   "outputs": [
    {
     "data": {
      "text/plain": [
       "4"
      ]
     },
     "execution_count": 22,
     "metadata": {},
     "output_type": "execute_result"
    }
   ],
   "source": [
    "cur.execute(\"select * from student\")"
   ]
  },
  {
   "cell_type": "code",
   "execution_count": 23,
   "id": "68e08a6d",
   "metadata": {},
   "outputs": [
    {
     "data": {
      "text/plain": [
       "((1, 'Ankit', 'MCA', 'ML', 130000.0),\n",
       " (69, 'piyush', 'MCA', 'ML', 100000.0),\n",
       " (81, 'robot', 'MCA', 'dotnet', 120000.0),\n",
       " (52, 'jayant', 'MCA', 'AI', 130000.0))"
      ]
     },
     "execution_count": 23,
     "metadata": {},
     "output_type": "execute_result"
    }
   ],
   "source": [
    "cur.fetchall()\n"
   ]
  },
  {
   "cell_type": "code",
   "execution_count": null,
   "id": "f6afc765",
   "metadata": {},
   "outputs": [],
   "source": []
  }
 ],
 "metadata": {
  "kernelspec": {
   "display_name": "Python 3 (ipykernel)",
   "language": "python",
   "name": "python3"
  },
  "language_info": {
   "codemirror_mode": {
    "name": "ipython",
    "version": 3
   },
   "file_extension": ".py",
   "mimetype": "text/x-python",
   "name": "python",
   "nbconvert_exporter": "python",
   "pygments_lexer": "ipython3",
   "version": "3.9.12"
  }
 },
 "nbformat": 4,
 "nbformat_minor": 5
}
